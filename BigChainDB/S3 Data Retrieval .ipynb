{
 "cells": [
  {
   "cell_type": "code",
   "execution_count": 7,
   "id": "7819f33a",
   "metadata": {},
   "outputs": [
    {
     "name": "stdout",
     "output_type": "stream",
     "text": [
      "['aws-public-blockchain/v1.0/eth/token_transfers/date=2015-10-27/part-00000-2ad0be30-0be0-4d1a-8d1f-c7240a656db5-c000.snappy.parquet']\n",
      "                                token_address  \\\n",
      "0  0x27cb40ce7eb4d078196923d608eb903a17e0c0ed   \n",
      "1  0x27cb40ce7eb4d078196923d608eb903a17e0c0ed   \n",
      "2  0x27cb40ce7eb4d078196923d608eb903a17e0c0ed   \n",
      "3  0x27cb40ce7eb4d078196923d608eb903a17e0c0ed   \n",
      "4  0x27cb40ce7eb4d078196923d608eb903a17e0c0ed   \n",
      "\n",
      "                                        from_address  \\\n",
      "0  0x00000000000000000000000097e58c7d37cba1a1e2ec...   \n",
      "1  0x00000000000000000000000097e58c7d37cba1a1e2ec...   \n",
      "2  0x00000000000000000000000097e58c7d37cba1a1e2ec...   \n",
      "3  0x00000000000000000000000097e58c7d37cba1a1e2ec...   \n",
      "4  0x00000000000000000000000097e58c7d37cba1a1e2ec...   \n",
      "\n",
      "                                          to_address          value  \\\n",
      "0  0x000000000000000000000000b1a2b43a7433dd150bb8...  1.162694e+202   \n",
      "1  0x0000000000000000000000009b22a80d5c7b3374a05b...  1.162694e+202   \n",
      "2  0x0000000000000000000000009b22a80d5c7b3374a05b...  1.162694e+202   \n",
      "3  0x0000000000000000000000009b22a80d5c7b3374a05b...  1.162694e+202   \n",
      "4  0x000000000000000000000000d1220a0cf47c7b9be7a2...  1.162694e+202   \n",
      "\n",
      "                                    transaction_hash  log_index  block_number  \\\n",
      "0  0x30a37b6b236b9abe85801e46f297b7f75f234173503a...          1        448028   \n",
      "1  0x99d443aa6f49e69d83dec151d1607a52d3a77e59b3ec...          1        449171   \n",
      "2  0xfc873596738971a0374c92e5eecb819485677855360d...          1        449141   \n",
      "3  0x77c8a40fcf091ae9c251e058423471dce9c70bf9f90d...          1        447786   \n",
      "4  0x2052f60f67a932c9b405df9baaee172fc012d2b1268f...          1        448983   \n",
      "\n",
      "                                          block_hash     block_timestamp  \\\n",
      "0  0x6df73b144364716f28a0ea926e77832221c05b073720... 2015-10-27 14:08:01   \n",
      "1  0x4b9d87fa8afbaac1a8570608c57b7c655cbeed38dfe9... 2015-10-27 19:06:35   \n",
      "2  0x9271685f7097d2da72ec3501af5ac7b81903354d9e10... 2015-10-27 18:59:15   \n",
      "3  0x16009dfe90883fcc0948c1f5e4b36446856e9a42dc83... 2015-10-27 13:01:40   \n",
      "4  0x8d120c7707de48a934a57f3b4c63914613e2e3966f8b... 2015-10-27 18:21:24   \n",
      "\n",
      "         date              last_modified  \n",
      "0  2015-10-27 2022-09-12 00:10:58.745769  \n",
      "1  2015-10-27 2022-09-12 00:11:13.940571  \n",
      "2  2015-10-27 2022-09-12 00:11:13.569117  \n",
      "3  2015-10-27 2022-09-12 00:10:55.722769  \n",
      "4  2015-10-27 2022-09-12 00:11:11.575474  \n"
     ]
    }
   ],
   "source": [
    "import pandas as pd\n",
    "import s3fs\n",
    "\n",
    "\n",
    "fs = s3fs.S3FileSystem(anon=True)\n",
    "\n",
    "\n",
    "directory_path = 's3://aws-public-blockchain/v1.0/eth/token_transfers/date=2015-10-27'\n",
    "\n",
    "\n",
    "files = fs.ls(directory_path)\n",
    "\n",
    "\n",
    "\n",
    "parquet_files = [file for file in files if file.endswith('.parquet')]\n",
    "\n",
    "\n",
    "file_path = 's3://' + parquet_files[0]\n",
    "\n",
    "print(parquet_files[:5])\n",
    "\n",
    "with fs.open(file_path, mode='rb') as f:\n",
    "    df = pd.read_parquet(f, engine='pyarrow')\n",
    "\n",
    "\n",
    "print(df.head())\n"
   ]
  },
  {
   "cell_type": "code",
   "execution_count": 6,
   "id": "c0a7d824",
   "metadata": {},
   "outputs": [
    {
     "name": "stdout",
     "output_type": "stream",
     "text": [
      "['aws-public-blockchain/v1.0/eth/blocks/date=2015-07-30/part-00000-32767f69-9150-49ac-9c03-45f34b103c34-c000.snappy.parquet']\n"
     ]
    }
   ],
   "source": [
    "import s3fs\n",
    "\n",
    "\n",
    "fs = s3fs.S3FileSystem(anon=True)\n",
    "\n",
    "\n",
    "directory_path = 's3://aws-public-blockchain/v1.0/eth/blocks/date=2015-07-30/part-00000-32767f69-9150-49ac-9c03-45f34b103c34-c000.snappy.parquet'\n",
    "\n",
    "\n",
    "files = fs.ls(directory_path)\n",
    "\n",
    "\n",
    "parquet_files = [file for file in files]\n",
    "\n",
    "print(parquet_files[:5])\n"
   ]
  },
  {
   "cell_type": "code",
   "execution_count": null,
   "id": "7c149e96",
   "metadata": {},
   "outputs": [],
   "source": []
  }
 ],
 "metadata": {
  "kernelspec": {
   "display_name": "Python 3",
   "language": "python",
   "name": "python3"
  },
  "language_info": {
   "codemirror_mode": {
    "name": "ipython",
    "version": 3
   },
   "file_extension": ".py",
   "mimetype": "text/x-python",
   "name": "python",
   "nbconvert_exporter": "python",
   "pygments_lexer": "ipython3",
   "version": "3.6.13"
  }
 },
 "nbformat": 4,
 "nbformat_minor": 5
}
