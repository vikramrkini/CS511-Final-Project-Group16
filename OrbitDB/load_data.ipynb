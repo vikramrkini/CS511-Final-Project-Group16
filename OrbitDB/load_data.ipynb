{
 "cells": [
  {
   "cell_type": "code",
   "execution_count": 1,
   "metadata": {},
   "outputs": [
    {
     "name": "stdout",
     "output_type": "stream",
     "text": [
      "['aws-public-blockchain/v1.0/eth/transactions/date=2015-10-27/part-00000-6cb224c6-57ef-43d1-9ece-df2aec896c95-c000.snappy.parquet']\n",
      "Data written to eth_data.json\n"
     ]
    }
   ],
   "source": [
    "import pandas as pd\n",
    "import s3fs\n",
    "\n",
    "# Create an S3 filesystem object for anonymous access\n",
    "fs = s3fs.S3FileSystem(anon=True)\n",
    "\n",
    "# Define the path to the dataset\n",
    "directory_path = 's3://aws-public-blockchain/v1.0/eth/transactions/date=2015-10-27'\n",
    "\n",
    "# Use s3fs to list files in the directory\n",
    "files = fs.ls(directory_path)\n",
    "\n",
    "# Filter for Parquet files\n",
    "parquet_files = [file for file in files if file.endswith('.parquet')]\n",
    "\n",
    "# Print the first 5 Parquet file paths to check\n",
    "print(parquet_files[:5])\n",
    "\n",
    "# Define the path for the output JSON file\n",
    "output_json_path = 'eth_data.json'\n",
    "\n",
    "# Read the first Parquet file and write directly to a JSON file\n",
    "file_path = 's3://' + parquet_files[0]\n",
    "with fs.open(file_path, mode='rb') as f:\n",
    "    df = pd.read_parquet(f, engine='pyarrow')\n",
    "    df.to_json(output_json_path, orient='records', lines=True)\n",
    "\n",
    "# Optionally, print confirmation that the file was written\n",
    "print(f\"Data written to {output_json_path}\")"
   ]
  },
  {
   "cell_type": "code",
   "execution_count": null,
   "metadata": {},
   "outputs": [],
   "source": []
  }
 ],
 "metadata": {
  "kernelspec": {
   "display_name": "Python 3",
   "language": "python",
   "name": "python3"
  },
  "language_info": {
   "codemirror_mode": {
    "name": "ipython",
    "version": 3
   },
   "file_extension": ".py",
   "mimetype": "text/x-python",
   "name": "python",
   "nbconvert_exporter": "python",
   "pygments_lexer": "ipython3",
   "version": "3.12.2"
  }
 },
 "nbformat": 4,
 "nbformat_minor": 2
}
